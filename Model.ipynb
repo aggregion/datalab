{
 "cells": [
  {
   "cell_type": "code",
   "execution_count": 1,
   "id": "d6d0d4f2",
   "metadata": {},
   "outputs": [],
   "source": [
    "# Downloading necessary libraries\n",
    "\n",
    "import numpy as np\n",
    "import pandas as pd\n",
    "import pickle\n",
    "from sklearn.model_selection import train_test_split\n",
    "from sklearn.ensemble import GradientBoostingClassifier\n",
    "from sklearn.ensemble import RandomForestClassifier"
   ]
  },
  {
   "cell_type": "code",
   "execution_count": 2,
   "id": "d5ccf739",
   "metadata": {},
   "outputs": [],
   "source": [
    "# Donwloading data\n",
    "\n",
    "data = pd.read_csv(\"C:/Users/Bogatyrev/Model-2/gbm-data.csv\", header=0)\n",
    "\n",
    "X = data.iloc[:, 1:150]\n",
    "y = data.iloc[:, 0]\n",
    "\n",
    "X_train, X_test, y_train, y_test = train_test_split(X, y, test_size=0.8)\n"
   ]
  },
  {
   "cell_type": "code",
   "execution_count": 3,
   "id": "e6246340",
   "metadata": {},
   "outputs": [
    {
     "name": "stdout",
     "output_type": "stream",
     "text": [
      "      Iter       Train Loss   Remaining Time \n",
      "         1           1.3074            4.93s\n",
      "         2           1.2486            3.79s\n",
      "         3           1.1986            4.29s\n",
      "         4           1.1560            3.75s\n",
      "         5           1.1221            3.66s\n",
      "         6           1.0904            3.92s\n",
      "         7           1.0618            3.43s\n",
      "         8           1.0393            4.05s\n",
      "         9           1.0168            3.75s\n",
      "        10           0.9962            3.91s\n",
      "        20           0.8541            3.59s\n",
      "        30           0.7539            3.39s\n",
      "        40           0.6826            3.29s\n",
      "        50           0.6219            2.99s\n",
      "        60           0.5637            2.92s\n",
      "        70           0.5148            2.77s\n",
      "        80           0.4725            2.66s\n",
      "        90           0.4343            2.48s\n",
      "       100           0.4042            2.34s\n",
      "       200           0.2023            0.76s\n"
     ]
    },
    {
     "data": {
      "text/html": [
       "<div>\n",
       "<style scoped>\n",
       "    .dataframe tbody tr th:only-of-type {\n",
       "        vertical-align: middle;\n",
       "    }\n",
       "\n",
       "    .dataframe tbody tr th {\n",
       "        vertical-align: top;\n",
       "    }\n",
       "\n",
       "    .dataframe thead th {\n",
       "        text-align: right;\n",
       "    }\n",
       "</style>\n",
       "<table border=\"1\" class=\"dataframe\">\n",
       "  <thead>\n",
       "    <tr style=\"text-align: right;\">\n",
       "      <th></th>\n",
       "      <th>Pred_0</th>\n",
       "      <th>Pred_1</th>\n",
       "      <th>Activity</th>\n",
       "    </tr>\n",
       "  </thead>\n",
       "  <tbody>\n",
       "    <tr>\n",
       "      <th>0</th>\n",
       "      <td>0.097888</td>\n",
       "      <td>0.902112</td>\n",
       "      <td>0</td>\n",
       "    </tr>\n",
       "    <tr>\n",
       "      <th>1</th>\n",
       "      <td>0.494155</td>\n",
       "      <td>0.505845</td>\n",
       "      <td>1</td>\n",
       "    </tr>\n",
       "    <tr>\n",
       "      <th>2</th>\n",
       "      <td>0.037761</td>\n",
       "      <td>0.962239</td>\n",
       "      <td>1</td>\n",
       "    </tr>\n",
       "    <tr>\n",
       "      <th>3</th>\n",
       "      <td>0.773564</td>\n",
       "      <td>0.226436</td>\n",
       "      <td>1</td>\n",
       "    </tr>\n",
       "    <tr>\n",
       "      <th>4</th>\n",
       "      <td>0.051234</td>\n",
       "      <td>0.948766</td>\n",
       "      <td>1</td>\n",
       "    </tr>\n",
       "    <tr>\n",
       "      <th>...</th>\n",
       "      <td>...</td>\n",
       "      <td>...</td>\n",
       "      <td>...</td>\n",
       "    </tr>\n",
       "    <tr>\n",
       "      <th>95</th>\n",
       "      <td>0.913968</td>\n",
       "      <td>0.086032</td>\n",
       "      <td>0</td>\n",
       "    </tr>\n",
       "    <tr>\n",
       "      <th>96</th>\n",
       "      <td>0.986830</td>\n",
       "      <td>0.013170</td>\n",
       "      <td>0</td>\n",
       "    </tr>\n",
       "    <tr>\n",
       "      <th>97</th>\n",
       "      <td>0.923100</td>\n",
       "      <td>0.076900</td>\n",
       "      <td>1</td>\n",
       "    </tr>\n",
       "    <tr>\n",
       "      <th>98</th>\n",
       "      <td>0.927143</td>\n",
       "      <td>0.072857</td>\n",
       "      <td>0</td>\n",
       "    </tr>\n",
       "    <tr>\n",
       "      <th>99</th>\n",
       "      <td>0.967616</td>\n",
       "      <td>0.032384</td>\n",
       "      <td>1</td>\n",
       "    </tr>\n",
       "  </tbody>\n",
       "</table>\n",
       "<p>100 rows × 3 columns</p>\n",
       "</div>"
      ],
      "text/plain": [
       "      Pred_0    Pred_1  Activity\n",
       "0   0.097888  0.902112         0\n",
       "1   0.494155  0.505845         1\n",
       "2   0.037761  0.962239         1\n",
       "3   0.773564  0.226436         1\n",
       "4   0.051234  0.948766         1\n",
       "..       ...       ...       ...\n",
       "95  0.913968  0.086032         0\n",
       "96  0.986830  0.013170         0\n",
       "97  0.923100  0.076900         1\n",
       "98  0.927143  0.072857         0\n",
       "99  0.967616  0.032384         1\n",
       "\n",
       "[100 rows x 3 columns]"
      ]
     },
     "execution_count": 3,
     "metadata": {},
     "output_type": "execute_result"
    }
   ],
   "source": [
    "# Fitting model\n",
    "\n",
    "gbm = GradientBoostingClassifier(n_estimators=250, verbose=True,learning_rate=0.1)\n",
    "gbm.fit(X_train, y_train)\n",
    "results=pd.concat([pd.DataFrame(gbm.predict_proba(X_test),columns=['Pred_0','Pred_1']),y_test.reset_index(drop=True)],axis=1)\n",
    "results.head(100)"
   ]
  },
  {
   "cell_type": "code",
   "execution_count": 4,
   "id": "a7b3e621",
   "metadata": {},
   "outputs": [],
   "source": [
    "# Saving model as .pkl\n",
    "\n",
    "with open(\"C:/Users/Bogatyrev/Desktop/gbm.pkl\", \"wb\") as f:\n",
    "    pickle.dump(gbm, f)"
   ]
  },
  {
   "cell_type": "code",
   "execution_count": 5,
   "id": "e68842e8",
   "metadata": {},
   "outputs": [],
   "source": [
    "# Loading model as .pkl\n",
    "\n",
    "with open(\"C:/Users/Bogatyrev/Desktop/gbm.pkl\", \"rb\") as f:\n",
    "    model=pickle.load(f)"
   ]
  },
  {
   "cell_type": "code",
   "execution_count": 6,
   "id": "1b441f55",
   "metadata": {},
   "outputs": [
    {
     "data": {
      "text/plain": [
       "array([[0.09788819, 0.90211181],\n",
       "       [0.49415513, 0.50584487],\n",
       "       [0.03776125, 0.96223875],\n",
       "       ...,\n",
       "       [0.25083765, 0.74916235],\n",
       "       [0.02571032, 0.97428968],\n",
       "       [0.06562401, 0.93437599]])"
      ]
     },
     "execution_count": 6,
     "metadata": {},
     "output_type": "execute_result"
    }
   ],
   "source": [
    "# Testing\n",
    "\n",
    "model.predict_proba(X_test)"
   ]
  }
 ],
 "metadata": {
  "kernelspec": {
   "display_name": "Python 3",
   "language": "python",
   "name": "python3"
  },
  "language_info": {
   "codemirror_mode": {
    "name": "ipython",
    "version": 3
   },
   "file_extension": ".py",
   "mimetype": "text/x-python",
   "name": "python",
   "nbconvert_exporter": "python",
   "pygments_lexer": "ipython3",
   "version": "3.8.7"
  }
 },
 "nbformat": 4,
 "nbformat_minor": 5
}
