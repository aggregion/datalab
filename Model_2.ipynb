{
 "cells": [
  {
   "cell_type": "code",
   "execution_count": 1,
   "id": "bb5386b8",
   "metadata": {},
   "outputs": [],
   "source": [
    "import numpy as np\n",
    "import pandas as pd\n",
    "import scipy\n",
    "\n",
    "from catboost import CatBoostClassifier\n",
    "from lightgbm import LGBMClassifier\n",
    "from xgboost import XGBClassifier\n",
    "from sklearn.ensemble import RandomForestClassifier\n",
    "\n",
    "from sklearn.datasets import make_classification\n",
    "from sklearn.model_selection import train_test_split\n",
    "\n",
    "from sklearn.metrics import roc_auc_score"
   ]
  },
  {
   "cell_type": "code",
   "execution_count": 2,
   "id": "c13e63f8",
   "metadata": {},
   "outputs": [],
   "source": [
    "X, y = make_classification(n_samples=1000, n_features=5, n_informative=3, n_redundant=2, n_classes=2, random_state=42)"
   ]
  },
  {
   "cell_type": "code",
   "execution_count": 3,
   "id": "f7f438fb",
   "metadata": {},
   "outputs": [],
   "source": [
    "X_train, X_test, y_train, y_test = train_test_split(X, y, test_size=0.3, random_state=42)"
   ]
  },
  {
   "cell_type": "code",
   "execution_count": 4,
   "id": "a2aa3774",
   "metadata": {},
   "outputs": [
    {
     "name": "stdout",
     "output_type": "stream",
     "text": [
      "Learning rate set to 0.008847\n",
      "0:\tlearn: 0.6798619\ttotal: 152ms\tremaining: 2m 32s\n",
      "500:\tlearn: 0.0765691\ttotal: 1.66s\tremaining: 1.66s\n",
      "999:\tlearn: 0.0436942\ttotal: 3.33s\tremaining: 0us\n",
      "\n",
      "ROC AUC score: 0.967\n"
     ]
    }
   ],
   "source": [
    "model1 = CatBoostClassifier(allow_writing_files=False, verbose=500, random_state=42).fit(X_train, y_train)\n",
    "print()\n",
    "print('ROC AUC score:', round(roc_auc_score(model1.predict(X_test), y_test), 3))"
   ]
  },
  {
   "cell_type": "code",
   "execution_count": 5,
   "id": "15a3ef32",
   "metadata": {},
   "outputs": [
    {
     "name": "stdout",
     "output_type": "stream",
     "text": [
      "ROC AUC score: 0.95\n"
     ]
    }
   ],
   "source": [
    "model2 = LGBMClassifier(random_state=42).fit(X_train, y_train)\n",
    "print('ROC AUC score:', round(roc_auc_score(model2.predict(X_test), y_test), 3))"
   ]
  },
  {
   "cell_type": "code",
   "execution_count": 6,
   "id": "4405f0ef",
   "metadata": {},
   "outputs": [
    {
     "name": "stdout",
     "output_type": "stream",
     "text": [
      "ROC AUC score: 0.938\n"
     ]
    }
   ],
   "source": [
    "model3 = XGBClassifier(eval_metric='logloss', use_label_encoder=False, random_state=42).fit(X_train, y_train)\n",
    "print('ROC AUC score:', round(roc_auc_score(model3.predict(X_test), y_test), 3))"
   ]
  },
  {
   "cell_type": "code",
   "execution_count": 7,
   "id": "807d3885",
   "metadata": {},
   "outputs": [
    {
     "name": "stdout",
     "output_type": "stream",
     "text": [
      "ROC AUC score: 0.957\n"
     ]
    }
   ],
   "source": [
    "model4=RandomForestClassifier().fit(X_train, y_train)\n",
    "print('ROC AUC score:', round(roc_auc_score(model4.predict(X_test), y_test), 3))"
   ]
  }
 ],
 "metadata": {
  "kernelspec": {
   "display_name": "Python 3",
   "language": "python",
   "name": "python3"
  },
  "language_info": {
   "codemirror_mode": {
    "name": "ipython",
    "version": 3
   },
   "file_extension": ".py",
   "mimetype": "text/x-python",
   "name": "python",
   "nbconvert_exporter": "python",
   "pygments_lexer": "ipython3",
   "version": "3.8.7"
  }
 },
 "nbformat": 4,
 "nbformat_minor": 5
}
